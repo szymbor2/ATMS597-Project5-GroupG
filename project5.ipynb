{
  "nbformat": 4,
  "nbformat_minor": 0,
  "metadata": {
    "colab": {
      "name": "project5.ipynb",
      "provenance": [],
      "collapsed_sections": [
        "hNRwldWtSF7f",
        "tDooGW0GSIxn"
      ],
      "authorship_tag": "ABX9TyPaN/mDYgtUSV3Vsx7XoE6Q",
      "include_colab_link": true
    },
    "kernelspec": {
      "name": "python3",
      "display_name": "Python 3"
    }
  },
  "cells": [
    {
      "cell_type": "markdown",
      "metadata": {
        "id": "view-in-github",
        "colab_type": "text"
      },
      "source": [
        "<a href=\"https://colab.research.google.com/github/szymbor2/ATMS597-Project5-GroupG/blob/master/project5.ipynb\" target=\"_parent\"><img src=\"https://colab.research.google.com/assets/colab-badge.svg\" alt=\"Open In Colab\"/></a>"
      ]
    },
    {
      "cell_type": "markdown",
      "metadata": {
        "id": "hNRwldWtSF7f",
        "colab_type": "text"
      },
      "source": [
        "# Import Libraries and Set Working Directory"
      ]
    },
    {
      "cell_type": "code",
      "metadata": {
        "id": "XNJfSw0nJp0Y",
        "colab_type": "code",
        "outputId": "4b245d40-c8bd-4d20-bf80-6f08075346f5",
        "colab": {
          "base_uri": "https://localhost:8080/",
          "height": 309
        }
      },
      "source": [
        "from google.colab import drive\n",
        "drive.mount('/content/drive')\n",
        "import glob\n",
        "import pandas as pd\n",
        "import numpy as np\n",
        "import datetime\n",
        "from sklearn.linear_model import LogisticRegression\n",
        "!pip install wget\n",
        "import wget\n",
        "from sklearn.model_selection import train_test_split\n",
        "from sklearn.linear_model import LogisticRegression\n",
        "import copy\n",
        "from sklearn.metrics import confusion_matrix\n",
        "from datetime import datetime\n",
        "import matplotlib as mpl\n",
        "import matplotlib.pyplot as pyplot\n",
        "from sklearn import svm\n",
        "from sklearn.metrics import brier_score_loss\n",
        "from sklearn import svm\n",
        "import seaborn as sns\n",
        "from sklearn.ensemble import RandomForestClassifier"
      ],
      "execution_count": 5,
      "outputs": [
        {
          "output_type": "stream",
          "text": [
            "Go to this URL in a browser: https://accounts.google.com/o/oauth2/auth?client_id=947318989803-6bn6qk8qdgf4n4g3pfee6491hc0brc4i.apps.googleusercontent.com&redirect_uri=urn%3aietf%3awg%3aoauth%3a2.0%3aoob&response_type=code&scope=email%20https%3a%2f%2fwww.googleapis.com%2fauth%2fdocs.test%20https%3a%2f%2fwww.googleapis.com%2fauth%2fdrive%20https%3a%2f%2fwww.googleapis.com%2fauth%2fdrive.photos.readonly%20https%3a%2f%2fwww.googleapis.com%2fauth%2fpeopleapi.readonly\n",
            "\n",
            "Enter your authorization code:\n",
            "··········\n",
            "Mounted at /content/drive\n",
            "Collecting wget\n",
            "  Downloading https://files.pythonhosted.org/packages/47/6a/62e288da7bcda82b935ff0c6cfe542970f04e29c756b0e147251b2fb251f/wget-3.2.zip\n",
            "Building wheels for collected packages: wget\n",
            "  Building wheel for wget (setup.py) ... \u001b[?25l\u001b[?25hdone\n",
            "  Created wheel for wget: filename=wget-3.2-cp36-none-any.whl size=9682 sha256=f4da4fbfe21f45db28b4628fd75ca91d946aa4ef4a2e4b52217c926a8e5a9c48\n",
            "  Stored in directory: /root/.cache/pip/wheels/40/15/30/7d8f7cea2902b4db79e3fea550d7d7b85ecb27ef992b618f3f\n",
            "Successfully built wget\n",
            "Installing collected packages: wget\n",
            "Successfully installed wget-3.2\n"
          ],
          "name": "stdout"
        },
        {
          "output_type": "stream",
          "text": [
            "/usr/local/lib/python3.6/dist-packages/statsmodels/tools/_testing.py:19: FutureWarning: pandas.util.testing is deprecated. Use the functions in the public API at pandas.testing instead.\n",
            "  import pandas.util.testing as tm\n"
          ],
          "name": "stderr"
        }
      ]
    },
    {
      "cell_type": "code",
      "metadata": {
        "id": "beYlfNXs2qS_",
        "colab_type": "code",
        "colab": {}
      },
      "source": [
        "YOUR_DIRECTORY = '/content/drive/My Drive/Colab Notebooks/ATMS597/project5/'"
      ],
      "execution_count": 0,
      "outputs": []
    },
    {
      "cell_type": "markdown",
      "metadata": {
        "id": "tDooGW0GSIxn",
        "colab_type": "text"
      },
      "source": [
        "# Get Data\n",
        "<b> Get Data </b> - Once you run this and have the data, do not need to run again."
      ]
    },
    {
      "cell_type": "code",
      "metadata": {
        "id": "7JtfbIjQSHlw",
        "colab_type": "code",
        "colab": {}
      },
      "source": [
        "# years = np.arange(2000,2021)\n",
        "# months = np.arange(1,13)\n",
        "# for y in years:\n",
        "#     print(y)\n",
        "#     for m in months:\n",
        "#         try:\n",
        "#             wget.download('ftp://ftp.ncdc.noaa.gov/pub/data/asos-fivemin/6401-'+str(y)+'/64010KSTC'+str(y)+str(m).zfill(2)+'.dat', out=YOUR_DIRECTORY+'project5_data/')\n",
        "#         except:\n",
        "#             print(\"All current files grabbed\")\n",
        "#             break"
      ],
      "execution_count": 0,
      "outputs": []
    },
    {
      "cell_type": "markdown",
      "metadata": {
        "id": "LiEgMZyLaTD8",
        "colab_type": "text"
      },
      "source": [
        "<b> Reformat files to be readable as CSVs </b> - once you have this, do not need to run again."
      ]
    },
    {
      "cell_type": "code",
      "metadata": {
        "id": "Ph7RcJsVSQOP",
        "colab_type": "code",
        "colab": {}
      },
      "source": [
        "# for yr in range(2000,2020):\n",
        "#   print('Year = ', yr)\n",
        "#   files = sorted(glob.glob(YOUR_DIRECTORY+'project5_data/64010KSTC'+str(yr)+'*.dat'))\n",
        "\n",
        "#   for ifile in range(0,len(files)):\n",
        "#       print(ifile)\n",
        "#       f = open(files[ifile], 'rb')\n",
        "#       df = pd.DataFrame([str(f.readline()).replace('\\\\n\\'','').replace('b\\'','').strip().split(' ')])\n",
        "#       for line in f:\n",
        "#           data = pd.DataFrame([str(f.readline()).replace('\\\\n\\'','').replace('b\\'','').strip().split(' ')])\n",
        "#           df = pd.concat([df, data], ignore_index=True)  \n",
        "#       # df = pd.DataFrame([line.strip().split(' ') for line in open(files[ifile], 'r')])\n",
        "#       del df[3]\n",
        "#       n_cols = len(df.columns)\n",
        "#       columns = ['StnNo', 'ContainsDate', 'Time', \"Interval\", 'Sttn', 'UTC', 'Type', 'Wind', \"Weath/Obstr\", 'SkyCond', 'Temp',\n",
        "#                     'n_days', 'MSLP', 'RelHum', ' ', 'WndDir/Spd', 'WindMagnetic', 'RMK', 'AO2']\n",
        "#       out_name = files[ifile].replace(YOUR_DIRECTORY+'project5_data/',YOUR_DIRECTORY+'project5_data/reviewed/')\n",
        "#       out = open(out_name, 'w')\n",
        "#       out.write('date'+','+'timeofday'+','+'Wind'+','+'Wind_Direction'+','+'Wind_Speed'+','+'Gusts'+','+'Variable_Winds'+','+'Temperature'+','+ \n",
        "#                         'Dewpoint'+','+'rhum'+','+'hourly'+','+'sixhourly'+','+'dayprecip'+','+'solid'+','+'liquid'+'\\n')\n",
        "#       # new_df = pd.DataFrame(columns=new_df_columns)\n",
        "#       cols_already = len(columns)\n",
        "#       cols_new = []\n",
        "#       cols_new = [np.append(cols_new,'X') for i in range(n_cols-cols_already)]\n",
        "#       columns = np.append(columns, cols_new)\n",
        "#       df.columns = columns\n",
        "\n",
        "#       for i in range(0, np.shape(df)[0]): #np.shape(df)[0]\n",
        "#           try:\n",
        "#             day = df['ContainsDate'][i][-8:] \n",
        "#             time = df['Time'][i]\n",
        "#             date = datetime.datetime.strptime(day+' '+time, '%m/%d/%y %H:%M:%S')\n",
        "#             (h, m, s) = time.split(':')\n",
        "#             timeofday = float(int(h) * 3600 + int(m) * 60 + int(s))/(3600*24)\n",
        "#             # print(date)\n",
        "#             # print(timeofday)\n",
        "#             Gusts = 0\n",
        "#             Wind = 0\n",
        "#             Variable_Winds = 0\n",
        "#             try:\n",
        "#               if \"KT\" in df['Wind'][i]:\n",
        "#                   Wind = 1\n",
        "#                   if df['Wind'][i][0:3] == 'VRB':\n",
        "#                       Variable_Winds = 1\n",
        "#                   else:\n",
        "#                       Variable_Winds = 0\n",
        "#                       Wind_Direction = int(df['Wind'][i][0:3]) # in tens of degrees from true north\n",
        "#                   Wind_Speed = int(df['Wind'][i][3:5]) # in whole knots (two digits)\n",
        "#                   if df['Wind'][i][5] == 'G':\n",
        "#                       Gusts = 1\n",
        "#                       Gust_Speed = int(df['Wind'][i][6:8]) # speed in whole knots (two digits)\n",
        "#               else:\n",
        "#                   Wind = 0\n",
        "#             except:\n",
        "#               Wind = 0\n",
        "#               Variable_Winds = 0\n",
        "#               Wind_Direction = np.nan\n",
        "#               Gusts=0\n",
        "#               Gust_Speed=0\n",
        "\n",
        "#             Temp = 0\n",
        "#             try:\n",
        "#               if \"/\" in df['Temp'][i]:\n",
        "#                   Temp = 1\n",
        "#                   Temperature = df['Temp'][i].split('/')[0]\n",
        "#                   if 'M' in Temperature:\n",
        "#                     Temperature = int(Temperature[1:3])\n",
        "#                   else:\n",
        "#                     Temperature = int(Temperature)\n",
        "#                   Dewpoint = df['Temp'][i].split('/')[1]\n",
        "#                   if 'M' in Dewpoint:\n",
        "#                     Dewpoint = int(Dewpoint[1:3])\n",
        "#                   else:\n",
        "#                     Dewpoint = int(Dewpoint) \n",
        "#               else:\n",
        "#                   Temp = 0  \n",
        "#               try:\n",
        "#                 rhum = int(df['RelHum'][i])\n",
        "#               except:\n",
        "#                 rhum = np.nan\n",
        "#               if (rhum>100):\n",
        "#                 rhum = np.nan\n",
        "#             except:\n",
        "#               Temp=0\n",
        "#               Temperature=np.nan\n",
        "#               Dewpoint=np.nan\n",
        "#               rhum=np.nan\n",
        "\n",
        "#             for n in range(cols_already, n_cols): #n_cols\n",
        "#               # for j in range(len(df.iloc[:,n])):\n",
        "#                 element = df.iloc[i,n]\n",
        "#                 try:\n",
        "#                   if element[0]=='P' or element[0]=='6' or element[0]=='7':\n",
        "#                     if element[1]=='0':\n",
        "#                       if element[0]=='P':\n",
        "#                         hourly = float(element[1:])/100.\n",
        "#                       elif element[0]=='6':\n",
        "#                         sixhourly = float(element[1:])/100.\n",
        "#                       elif element[0]=='7':\n",
        "#                         dayprecip = float(element[1:])/100.\n",
        "#                   else:\n",
        "#                     hourly = np.nan\n",
        "#                     sixhourly = np.nan\n",
        "#                     dayprecip = np.nan\n",
        "#                 except:\n",
        "#                     hourly = np.nan\n",
        "#                     sixhourly = np.nan\n",
        "#                     dayprecip = np.nan\n",
        "\n",
        "#             frozen_flags = ['SN', 'SG', 'IC', 'PL', 'GR', 'GS']\n",
        "#             liquid_flags = ['FZ', 'RA']\n",
        "#             try:\n",
        "#                 if np.logical_or(any(flags in df['Weath/Obstr'][i] for flags in frozen_flags), any(flags in df['Temp'][i] for flags in frozen_flags)):\n",
        "#                   solid = 1\n",
        "#                 elif np.logical_or(any(flags in df['Weath/Obstr'][i] for flags in liquid_flags), any(flags in df['Temp'][i] for flags in liquid_flags)):\n",
        "#                   liquid = 1\n",
        "#                 else:\n",
        "#                   solid = 0\n",
        "#                   liquid = 0\n",
        "#             except:\n",
        "#                   solid = np.nan\n",
        "#                   liquid = np.nan\n",
        "\n",
        "#             # print('Wind, Wind_Direction, Wind_Speed, Gusts, Variable_Winds, Temp, Temperature, Dewpoint, rhum, hourly, sixhourly, daily:') \n",
        "#             # print(str(date)+','+str(timeofday)+','+str(Wind)+','+str(Wind_Direction)+','+str(Wind_Speed)+','+str(Gusts)+','+str(Variable_Winds)\n",
        "#             # +','+str(Temperature)+','+str(Dewpoint)+','+str(rhum)+','+str(hourly)+','+str(sixhourly)+','+str(dayprecip)+','+str(solid)+','+str(liquid)+'\\n')\n",
        "#             out.write(str(date)+','+str(timeofday)+','+str(Wind)+','+str(Wind_Direction)+','+str(Wind_Speed)+','+str(Gusts)+','+str(Variable_Winds)\n",
        "#             +','+str(Temperature)+','+str(Dewpoint)+','+str(rhum)+','+str(hourly)+','+str(sixhourly)+','+str(dayprecip)+','+str(solid)+','+str(liquid)+'\\n')\n",
        "#           except:\n",
        "#             continue\n",
        "#       out.close()\n"
      ],
      "execution_count": 0,
      "outputs": []
    },
    {
      "cell_type": "markdown",
      "metadata": {
        "id": "czekDV3DPuB1",
        "colab_type": "text"
      },
      "source": [
        "# Read in and adjust data\n",
        "Drop columns we \"don't care about\", replace negative values of RH with NaN, and filter out all NaNs."
      ]
    },
    {
      "cell_type": "code",
      "metadata": {
        "id": "FNV5APDYR0q8",
        "colab_type": "code",
        "outputId": "93223c15-5355-4465-84d9-7368d9992259",
        "colab": {
          "base_uri": "https://localhost:8080/",
          "height": 297
        }
      },
      "source": [
        "# Read in the file\n",
        "data = pd.read_csv(YOUR_DIRECTORY + 'data.csv')\n",
        "data['date'] = pd.to_datetime(data['date']).apply(lambda x: x.strftime('%j')) # Change date column to datetime\n",
        "\n",
        "# Drop Columns\n",
        "data.drop(columns = ['Wind', 'sixhourly', 'dayprecip', 'Gusts', 'hourly', 'solid', 'liquid', 'Variable_Winds'], inplace = True)\n",
        "\n",
        "# Replace negative RH values with NaNs\n",
        "data.loc[(data['rhum'] < 0)] = np.nan\n",
        "\n",
        "# Drop NaNs\n",
        "data = data.filter(['date','timeofday', 'Wind_direction', 'Wind_speed', 'Temperature', 'Dewpoint', 'rhum', 'prcp_type']).dropna()\n",
        "data.describe()"
      ],
      "execution_count": 8,
      "outputs": [
        {
          "output_type": "execute_result",
          "data": {
            "text/html": [
              "<div>\n",
              "<style scoped>\n",
              "    .dataframe tbody tr th:only-of-type {\n",
              "        vertical-align: middle;\n",
              "    }\n",
              "\n",
              "    .dataframe tbody tr th {\n",
              "        vertical-align: top;\n",
              "    }\n",
              "\n",
              "    .dataframe thead th {\n",
              "        text-align: right;\n",
              "    }\n",
              "</style>\n",
              "<table border=\"1\" class=\"dataframe\">\n",
              "  <thead>\n",
              "    <tr style=\"text-align: right;\">\n",
              "      <th></th>\n",
              "      <th>timeofday</th>\n",
              "      <th>Temperature</th>\n",
              "      <th>Dewpoint</th>\n",
              "      <th>rhum</th>\n",
              "      <th>prcp_type</th>\n",
              "    </tr>\n",
              "  </thead>\n",
              "  <tbody>\n",
              "    <tr>\n",
              "      <th>count</th>\n",
              "      <td>6231.000000</td>\n",
              "      <td>6231.000000</td>\n",
              "      <td>6231.000000</td>\n",
              "      <td>6231.00000</td>\n",
              "      <td>6231.000000</td>\n",
              "    </tr>\n",
              "    <tr>\n",
              "      <th>mean</th>\n",
              "      <td>0.565615</td>\n",
              "      <td>11.670358</td>\n",
              "      <td>8.717541</td>\n",
              "      <td>80.65784</td>\n",
              "      <td>0.402664</td>\n",
              "    </tr>\n",
              "    <tr>\n",
              "      <th>std</th>\n",
              "      <td>0.208864</td>\n",
              "      <td>6.335851</td>\n",
              "      <td>5.753035</td>\n",
              "      <td>11.36367</td>\n",
              "      <td>0.490474</td>\n",
              "    </tr>\n",
              "    <tr>\n",
              "      <th>min</th>\n",
              "      <td>0.003831</td>\n",
              "      <td>1.000000</td>\n",
              "      <td>0.000000</td>\n",
              "      <td>18.00000</td>\n",
              "      <td>0.000000</td>\n",
              "    </tr>\n",
              "    <tr>\n",
              "      <th>25%</th>\n",
              "      <td>0.382303</td>\n",
              "      <td>7.000000</td>\n",
              "      <td>4.000000</td>\n",
              "      <td>74.00000</td>\n",
              "      <td>0.000000</td>\n",
              "    </tr>\n",
              "    <tr>\n",
              "      <th>50%</th>\n",
              "      <td>0.548970</td>\n",
              "      <td>12.000000</td>\n",
              "      <td>8.000000</td>\n",
              "      <td>81.00000</td>\n",
              "      <td>0.000000</td>\n",
              "    </tr>\n",
              "    <tr>\n",
              "      <th>75%</th>\n",
              "      <td>0.746887</td>\n",
              "      <td>16.000000</td>\n",
              "      <td>13.000000</td>\n",
              "      <td>89.00000</td>\n",
              "      <td>1.000000</td>\n",
              "    </tr>\n",
              "    <tr>\n",
              "      <th>max</th>\n",
              "      <td>0.996887</td>\n",
              "      <td>36.000000</td>\n",
              "      <td>25.000000</td>\n",
              "      <td>100.00000</td>\n",
              "      <td>1.000000</td>\n",
              "    </tr>\n",
              "  </tbody>\n",
              "</table>\n",
              "</div>"
            ],
            "text/plain": [
              "         timeofday  Temperature     Dewpoint        rhum    prcp_type\n",
              "count  6231.000000  6231.000000  6231.000000  6231.00000  6231.000000\n",
              "mean      0.565615    11.670358     8.717541    80.65784     0.402664\n",
              "std       0.208864     6.335851     5.753035    11.36367     0.490474\n",
              "min       0.003831     1.000000     0.000000    18.00000     0.000000\n",
              "25%       0.382303     7.000000     4.000000    74.00000     0.000000\n",
              "50%       0.548970    12.000000     8.000000    81.00000     0.000000\n",
              "75%       0.746887    16.000000    13.000000    89.00000     1.000000\n",
              "max       0.996887    36.000000    25.000000   100.00000     1.000000"
            ]
          },
          "metadata": {
            "tags": []
          },
          "execution_count": 8
        }
      ]
    },
    {
      "cell_type": "markdown",
      "metadata": {
        "id": "ngZk26AenQ4O",
        "colab_type": "text"
      },
      "source": [
        "## Function to create climatological probability for Brier Skill Score"
      ]
    },
    {
      "cell_type": "code",
      "metadata": {
        "id": "QsDUQMvBnQ_N",
        "colab_type": "code",
        "colab": {}
      },
      "source": [
        "# Calculate climatology probability\n",
        "def climate_probability(label, shape):\n",
        "    clim = (np.size(np.where(label == 1)))/float(len(label))\n",
        "    probability = np.zeros((shape))\n",
        "    probability[:,0] = 1 - clim\n",
        "    probability[:,1] = clim\n",
        "    return probability"
      ],
      "execution_count": 0,
      "outputs": []
    },
    {
      "cell_type": "markdown",
      "metadata": {
        "id": "0_eyOSIIEYJT",
        "colab_type": "text"
      },
      "source": [
        "# 1. Logistic Regression"
      ]
    },
    {
      "cell_type": "markdown",
      "metadata": {
        "id": "5PuoflIoq2i3",
        "colab_type": "text"
      },
      "source": [
        "## Model Features and Labels"
      ]
    },
    {
      "cell_type": "code",
      "metadata": {
        "id": "Lc26Rjecq6Vl",
        "colab_type": "code",
        "colab": {}
      },
      "source": [
        "labels = data['prcp_type'].to_numpy() # y\n",
        "feats = data.drop(columns = ['prcp_type']).to_numpy() # X\n",
        "train_features, test_features, train_labels, test_labels = train_test_split(feats, labels, test_size = 0.3, random_state = 42)"
      ],
      "execution_count": 0,
      "outputs": []
    },
    {
      "cell_type": "markdown",
      "metadata": {
        "id": "qX2MMbq7WESI",
        "colab_type": "text"
      },
      "source": [
        "## Train Model"
      ]
    },
    {
      "cell_type": "code",
      "metadata": {
        "id": "xFbdguBSWEYt",
        "colab_type": "code",
        "outputId": "9b9582b9-7b67-4b0e-c5fc-2b99440d6477",
        "colab": {
          "base_uri": "https://localhost:8080/",
          "height": 85
        }
      },
      "source": [
        "clf = LogisticRegression(max_iter=10e10, random_state=42)\n",
        "clf.fit(train_features, train_labels)\n",
        "\n",
        "training_probability = clf.predict_proba(train_features)\n",
        "testing_probability = clf.predict_proba(test_features)\n",
        "\n",
        "print('Training Score: ' + str(clf.score(train_features, train_labels)))\n",
        "print('Testing Score: ' + str(clf.score(test_features, test_labels)))\n",
        "\n",
        "print('Training Brier Score: ' + str(brier_score_loss(train_labels, clf.predict(train_features))))\n",
        "print('Testing Brier Score: ' + str(brier_score_loss(test_labels, clf.predict(test_features))))"
      ],
      "execution_count": 54,
      "outputs": [
        {
          "output_type": "stream",
          "text": [
            "Training Score: 0.7984407246044485\n",
            "Testing Score: 0.7818181818181819\n",
            "Training Brier Score: 0.2015592753955515\n",
            "Testing Brier Score: 0.21818181818181817\n"
          ],
          "name": "stdout"
        }
      ]
    },
    {
      "cell_type": "markdown",
      "metadata": {
        "id": "b6zMgexLj6G5",
        "colab_type": "text"
      },
      "source": [
        "## Brier Skill Score"
      ]
    },
    {
      "cell_type": "code",
      "metadata": {
        "id": "JsKQqxV7j5xS",
        "colab_type": "code",
        "colab": {
          "base_uri": "https://localhost:8080/",
          "height": 51
        },
        "outputId": "2abdb597-d402-4503-8500-96784c3a7a54"
      },
      "source": [
        "training_climprob = climate_probability(train_labels, np.shape(training_probability))\n",
        "testing_climprob = climate_probability(test_labels, np.shape(testing_probability))\n",
        "\n",
        "# Calculate the Brier Skill Score for training and testing data\n",
        "training_bss = 1 - (brier_score_loss(train_labels, training_probability[:,1])/brier_score_loss(train_labels, training_climprob[:,1]))\n",
        "testing_bss = 1 - (brier_score_loss(test_labels, testing_probability[:,1])/brier_score_loss(test_labels, testing_climprob[:,1]))\n",
        "\n",
        "print('Training Brier Skill Score: ' + str(training_bss))\n",
        "print('Testing Brier Skill Score: ' + str(testing_bss))"
      ],
      "execution_count": 56,
      "outputs": [
        {
          "output_type": "stream",
          "text": [
            "Training Brier Skill Score: 0.45903779615265305\n",
            "Testing Brier Skill Score: 0.42380805369114083\n"
          ],
          "name": "stdout"
        }
      ]
    },
    {
      "cell_type": "markdown",
      "metadata": {
        "id": "kzT6JM8hWW__",
        "colab_type": "text"
      },
      "source": [
        "## Confusion Matrix"
      ]
    },
    {
      "cell_type": "code",
      "metadata": {
        "id": "Uda4MWmxWZLo",
        "colab_type": "code",
        "outputId": "936356ff-9481-4a8b-cedf-96d1e629547d",
        "colab": {
          "base_uri": "https://localhost:8080/",
          "height": 297
        }
      },
      "source": [
        "# Create Matrix\n",
        "matrix = confusion_matrix(test_labels, clf.predict(test_features))\n",
        "\n",
        "# Plot matrix\n",
        "labels = ['liquid', 'solid']\n",
        "sns.heatmap(matrix.T, square=True, annot=True, fmt='d', cbar=False, xticklabels=labels, yticklabels=labels, cmap='PRGn')\n",
        "pyplot.title('Logistic Regression Precipitation Type')\n",
        "pyplot.xlabel('Observations')\n",
        "pyplot.ylabel('Predicted')\n",
        "pyplot.tight_layout()\n",
        "pyplot.savefig(YOUR_DIRECTORY + 'logregression_confmatrix.png', dpi=300)"
      ],
      "execution_count": 57,
      "outputs": [
        {
          "output_type": "display_data",
          "data": {
            "image/png": "[encoded data removed]",
            "text/plain": [
              "<Figure size 432x288 with 1 Axes>"
            ]
          },
          "metadata": {
            "tags": [],
            "needs_background": "light"
          }
        }
      ]
    },
    {
      "cell_type": "markdown",
      "metadata": {
        "id": "yaBFS1BCuGUK",
        "colab_type": "text"
      },
      "source": [
        "# 2. Random Forest Regression"
      ]
    },
    {
      "cell_type": "markdown",
      "metadata": {
        "id": "Kmdk-ECFEajw",
        "colab_type": "text"
      },
      "source": [
        "## Train Model"
      ]
    },
    {
      "cell_type": "code",
      "metadata": {
        "id": "xC-LSYsmuGEr",
        "colab_type": "code",
        "outputId": "3201eecf-df07-4938-b262-a24dea08633b",
        "colab": {
          "base_uri": "https://localhost:8080/",
          "height": 85
        }
      },
      "source": [
        "#rfc = RandomForestClassifier(n_estimators = 1600, random_state = 42, max_depth = 80, max_features = 'auto', min_samples_leaf = 1, min_samples_split = 3, bootstrap = True)\n",
        "rfc = RandomForestClassifier(n_estimators = 100, random_state = 42)\n",
        "rfc.fit(train_features, train_labels)\n",
        "\n",
        "training_probability = rfc.predict_proba(train_features)\n",
        "testing_probability = rfc.predict_proba(test_features)\n",
        "\n",
        "print('Training Score: ' + str(rfc.score(train_features, train_labels)))\n",
        "print('Testing Score: ' + str(rfc.score(test_features, test_labels)))\n",
        "\n",
        "print('Training Brier Score: ' + str(brier_score_loss(train_labels, rfc.predict(train_features))))\n",
        "print('Testing Brier Score: ' + str(brier_score_loss(test_labels, rfc.predict(test_features))))"
      ],
      "execution_count": 58,
      "outputs": [
        {
          "output_type": "stream",
          "text": [
            "Training Score: 1.0\n",
            "Testing Score: 0.9871657754010695\n",
            "Training Brier Score: 0.0\n",
            "Testing Brier Score: 0.012834224598930482\n"
          ],
          "name": "stdout"
        }
      ]
    },
    {
      "cell_type": "markdown",
      "metadata": {
        "id": "5uwfxq8qnZgl",
        "colab_type": "text"
      },
      "source": [
        "## Brier Skill Score"
      ]
    },
    {
      "cell_type": "code",
      "metadata": {
        "id": "Y-4U_S9yna1T",
        "colab_type": "code",
        "colab": {
          "base_uri": "https://localhost:8080/",
          "height": 51
        },
        "outputId": "09e3d0b6-fe2b-4110-a20e-60c846dbbec0"
      },
      "source": [
        "training_climprob = climate_probability(train_labels, np.shape(training_probability))\n",
        "testing_climprob = climate_probability(test_labels, np.shape(testing_probability))\n",
        "\n",
        "# Calculate the Brier Skill Score for training and testing data\n",
        "training_bss = 1 - (brier_score_loss(train_labels, training_probability[:,1])/brier_score_loss(train_labels, training_climprob[:,1]))\n",
        "testing_bss = 1 - (brier_score_loss(test_labels, testing_probability[:,1])/brier_score_loss(test_labels, testing_climprob[:,1]))\n",
        "\n",
        "print('Training Brier Skill Score: ' + str(training_bss))\n",
        "print('Testing Brier Skill Score: ' + str(testing_bss))"
      ],
      "execution_count": 59,
      "outputs": [
        {
          "output_type": "stream",
          "text": [
            "Training Brier Skill Score: 0.9921434622784686\n",
            "Testing Brier Skill Score: 0.9495034036416893\n"
          ],
          "name": "stdout"
        }
      ]
    },
    {
      "cell_type": "markdown",
      "metadata": {
        "id": "QjctKRK6EeG2",
        "colab_type": "text"
      },
      "source": [
        "## Create Matrix"
      ]
    },
    {
      "cell_type": "code",
      "metadata": {
        "id": "eVrjSDh5Dvmy",
        "colab_type": "code",
        "outputId": "c0b12b05-75c1-4b33-e2ff-6a892449a3f7",
        "colab": {
          "base_uri": "https://localhost:8080/",
          "height": 297
        }
      },
      "source": [
        "# Create Matrix\n",
        "matrix = confusion_matrix(test_labels, clf.predict(test_features))\n",
        "\n",
        "# Plot matrix\n",
        "labels = ['liquid', 'solid']\n",
        "sns.heatmap(matrix.T, square=True, annot=True, fmt='d', cbar=False, xticklabels=labels, yticklabels=labels, cmap='PRGn')\n",
        "pyplot.title('Random Forest Precipitation Type')\n",
        "pyplot.xlabel('Observations')\n",
        "pyplot.ylabel('Predicted')\n",
        "pyplot.tight_layout()\n",
        "pyplot.savefig(YOUR_DIRECTORY + 'randforestregress_confmatrix.png', dpi=300)"
      ],
      "execution_count": 60,
      "outputs": [
        {
          "output_type": "display_data",
          "data": {
            "image/png": "[encoded data removed]",
            "text/plain": [
              "<Figure size 432x288 with 1 Axes>"
            ]
          },
          "metadata": {
            "tags": [],
            "needs_background": "light"
          }
        }
      ]
    },
    {
      "cell_type": "markdown",
      "metadata": {
        "id": "NMhSeI2267nH",
        "colab_type": "text"
      },
      "source": [
        "## 3. SVM"
      ]
    },
    {
      "cell_type": "markdown",
      "metadata": {
        "id": "YV8GOOjqEgYc",
        "colab_type": "text"
      },
      "source": [
        "## Train Model"
      ]
    },
    {
      "cell_type": "code",
      "metadata": {
        "id": "b-WJjTi568Yp",
        "colab_type": "code",
        "outputId": "5ce5b672-ef36-4a48-d83a-505bf09ea7a3",
        "colab": {
          "base_uri": "https://localhost:8080/",
          "height": 85
        }
      },
      "source": [
        "svmc = svm.SVC()\n",
        "svmc.fit(train_features, train_labels)\n",
        "\n",
        "print('Training Score: ' + str(svmc.score(train_features, train_labels)))\n",
        "print('Testing Score: ' + str(svmc.score(test_features, test_labels)))\n",
        "\n",
        "print('Training Brier Score: ' + str(brier_score_loss(train_labels, svmc.predict(train_features))))\n",
        "print('Testing Brier Score: ' + str(brier_score_loss(test_labels, svmc.predict(test_features))))"
      ],
      "execution_count": 51,
      "outputs": [
        {
          "output_type": "stream",
          "text": [
            "Training Score: 0.8993350149048384\n",
            "Testing Score: 0.895187165775401\n",
            "Training Brier Score: 0.10066498509516165\n",
            "Testing Brier Score: 0.10481283422459893\n"
          ],
          "name": "stdout"
        }
      ]
    },
    {
      "cell_type": "markdown",
      "metadata": {
        "id": "FNAAVEYIEhTT",
        "colab_type": "text"
      },
      "source": [
        "## Confusion Matrix"
      ]
    },
    {
      "cell_type": "code",
      "metadata": {
        "id": "04SVGU9P69hG",
        "colab_type": "code",
        "outputId": "69cdf506-3d04-4936-e78c-6f3b65b3716f",
        "colab": {
          "base_uri": "https://localhost:8080/",
          "height": 297
        }
      },
      "source": [
        "# Create Matrix\n",
        "matrix = confusion_matrix(test_labels, clf.predict(test_features))\n",
        "\n",
        "# Plot matrix\n",
        "labels = ['liquid', 'solid']\n",
        "sns.heatmap(matrix.T, square=True, annot=True, fmt='d', cbar=False, xticklabels=labels, yticklabels=labels, cmap='PRGn')\n",
        "pyplot.title('SVM Precipitation Type')\n",
        "pyplot.xlabel('Observations')\n",
        "pyplot.ylabel('Predicted')\n",
        "pyplot.tight_layout()\n",
        "pyplot.savefig(YOUR_DIRECTORY + 'svm_confmatrix.png', dpi=300)"
      ],
      "execution_count": 49,
      "outputs": [
        {
          "output_type": "display_data",
          "data": {
            "image/png": "[encoded data removed]",
            "text/plain": [
              "<Figure size 432x288 with 1 Axes>"
            ]
          },
          "metadata": {
            "tags": [],
            "needs_background": "light"
          }
        }
      ]
    },
    {
      "cell_type": "code",
      "metadata": {
        "id": "aVj52UMajOvT",
        "colab_type": "code",
        "colab": {}
      },
      "source": [
        ""
      ],
      "execution_count": 0,
      "outputs": []
    }
  ]
}